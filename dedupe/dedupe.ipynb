{
 "cells": [
  {
   "cell_type": "code",
   "execution_count": 2,
   "metadata": {},
   "outputs": [],
   "source": [
    "import pandas as pd\n",
    "import sqlite3"
   ]
  },
  {
   "cell_type": "code",
   "execution_count": 3,
   "metadata": {},
   "outputs": [],
   "source": [
    "old_db_file = \"koso-tasks-emebeddings-old.sqlite\"\n",
    "old_db = sqlite3.connect(old_db_file, autocommit=True)"
   ]
  },
  {
   "cell_type": "code",
   "execution_count": 4,
   "metadata": {},
   "outputs": [
    {
     "data": {
      "text/html": [
       "<div>\n",
       "<style scoped>\n",
       "    .dataframe tbody tr th:only-of-type {\n",
       "        vertical-align: middle;\n",
       "    }\n",
       "\n",
       "    .dataframe tbody tr th {\n",
       "        vertical-align: top;\n",
       "    }\n",
       "\n",
       "    .dataframe thead th {\n",
       "        text-align: right;\n",
       "    }\n",
       "</style>\n",
       "<table border=\"1\" class=\"dataframe\">\n",
       "  <thead>\n",
       "    <tr style=\"text-align: right;\">\n",
       "      <th></th>\n",
       "      <th>name</th>\n",
       "      <th>embedding</th>\n",
       "    </tr>\n",
       "    <tr>\n",
       "      <th>id</th>\n",
       "      <th></th>\n",
       "      <th></th>\n",
       "    </tr>\n",
       "  </thead>\n",
       "  <tbody>\n",
       "    <tr>\n",
       "      <th>955b2543-2c2c-402a-bf3c-a6ee3af600c4</th>\n",
       "      <td>Update all dependencies</td>\n",
       "      <td>[-0.04262385, -0.0137202265, 0.050563354, -0.0...</td>\n",
       "    </tr>\n",
       "    <tr>\n",
       "      <th>3b294b94-360d-4434-a60c-2ba597487716</th>\n",
       "      <td>Implement project sharing</td>\n",
       "      <td>[-0.008109256, -0.041775838, 0.06633781, 0.016...</td>\n",
       "    </tr>\n",
       "    <tr>\n",
       "      <th>37efb8eb-0be0-4b7c-a8b2-fa5a64a24294</th>\n",
       "      <td>Avoid flash of default content when loading pr...</td>\n",
       "      <td>[-0.011238622, -0.01843505, 0.010218133, 0.000...</td>\n",
       "    </tr>\n",
       "    <tr>\n",
       "      <th>17eebd97-1408-4ef8-a09f-5dd6274b6a70</th>\n",
       "      <td>circular-progress</td>\n",
       "      <td>[0.009646903, -0.01339253, 0.03883222, 0.02620...</td>\n",
       "    </tr>\n",
       "    <tr>\n",
       "      <th>86693605-0eb8-4f63-b415-bf98daff8dd9</th>\n",
       "      <td>chip</td>\n",
       "      <td>[0.024372576, -0.035102338, -0.039083514, -0.0...</td>\n",
       "    </tr>\n",
       "    <tr>\n",
       "      <th>...</th>\n",
       "      <td>...</td>\n",
       "      <td>...</td>\n",
       "    </tr>\n",
       "    <tr>\n",
       "      <th>83ebf1e5-eefa-4fc8-ba42-6d1b54785bbd</th>\n",
       "      <td>Add dark mode toggle to profile menu</td>\n",
       "      <td>[-0.043504886, -0.0073811146, -0.05394422, -0....</td>\n",
       "    </tr>\n",
       "    <tr>\n",
       "      <th>9d405289-0ce8-4fcb-b36d-8aa51bce2fe8</th>\n",
       "      <td>Fix shortcut throwing error for unmapped keys</td>\n",
       "      <td>[0.009594135, 0.030467296, 0.059152227, -0.009...</td>\n",
       "    </tr>\n",
       "    <tr>\n",
       "      <th>fb51dd9c-27f9-49f9-9d76-22cfdd24f540</th>\n",
       "      <td>Migrate stores to Svelte $state rune</td>\n",
       "      <td>[-0.036106873, 0.036080558, -0.0045528347, -0....</td>\n",
       "    </tr>\n",
       "    <tr>\n",
       "      <th>da663102-87b8-4bdd-9f58-d7e5a8306e9c</th>\n",
       "      <td>Rename plain-tooltip to just tooltip</td>\n",
       "      <td>[-0.028963696, -0.014065852, -0.031849667, -0....</td>\n",
       "    </tr>\n",
       "    <tr>\n",
       "      <th>52757756-a25f-4f9b-a076-f20baaed5cb7</th>\n",
       "      <td>Prototype a task detail view</td>\n",
       "      <td>[-0.023300659, 0.025322782, -0.0133882975, 0.0...</td>\n",
       "    </tr>\n",
       "  </tbody>\n",
       "</table>\n",
       "<p>636 rows × 2 columns</p>\n",
       "</div>"
      ],
      "text/plain": [
       "                                                                                   name  \\\n",
       "id                                                                                        \n",
       "955b2543-2c2c-402a-bf3c-a6ee3af600c4                            Update all dependencies   \n",
       "3b294b94-360d-4434-a60c-2ba597487716                          Implement project sharing   \n",
       "37efb8eb-0be0-4b7c-a8b2-fa5a64a24294  Avoid flash of default content when loading pr...   \n",
       "17eebd97-1408-4ef8-a09f-5dd6274b6a70                                  circular-progress   \n",
       "86693605-0eb8-4f63-b415-bf98daff8dd9                                               chip   \n",
       "...                                                                                 ...   \n",
       "83ebf1e5-eefa-4fc8-ba42-6d1b54785bbd               Add dark mode toggle to profile menu   \n",
       "9d405289-0ce8-4fcb-b36d-8aa51bce2fe8      Fix shortcut throwing error for unmapped keys   \n",
       "fb51dd9c-27f9-49f9-9d76-22cfdd24f540               Migrate stores to Svelte $state rune   \n",
       "da663102-87b8-4bdd-9f58-d7e5a8306e9c               Rename plain-tooltip to just tooltip   \n",
       "52757756-a25f-4f9b-a076-f20baaed5cb7                       Prototype a task detail view   \n",
       "\n",
       "                                                                              embedding  \n",
       "id                                                                                       \n",
       "955b2543-2c2c-402a-bf3c-a6ee3af600c4  [-0.04262385, -0.0137202265, 0.050563354, -0.0...  \n",
       "3b294b94-360d-4434-a60c-2ba597487716  [-0.008109256, -0.041775838, 0.06633781, 0.016...  \n",
       "37efb8eb-0be0-4b7c-a8b2-fa5a64a24294  [-0.011238622, -0.01843505, 0.010218133, 0.000...  \n",
       "17eebd97-1408-4ef8-a09f-5dd6274b6a70  [0.009646903, -0.01339253, 0.03883222, 0.02620...  \n",
       "86693605-0eb8-4f63-b415-bf98daff8dd9  [0.024372576, -0.035102338, -0.039083514, -0.0...  \n",
       "...                                                                                 ...  \n",
       "83ebf1e5-eefa-4fc8-ba42-6d1b54785bbd  [-0.043504886, -0.0073811146, -0.05394422, -0....  \n",
       "9d405289-0ce8-4fcb-b36d-8aa51bce2fe8  [0.009594135, 0.030467296, 0.059152227, -0.009...  \n",
       "fb51dd9c-27f9-49f9-9d76-22cfdd24f540  [-0.036106873, 0.036080558, -0.0045528347, -0....  \n",
       "da663102-87b8-4bdd-9f58-d7e5a8306e9c  [-0.028963696, -0.014065852, -0.031849667, -0....  \n",
       "52757756-a25f-4f9b-a076-f20baaed5cb7  [-0.023300659, 0.025322782, -0.0133882975, 0.0...  \n",
       "\n",
       "[636 rows x 2 columns]"
      ]
     },
     "execution_count": 4,
     "metadata": {},
     "output_type": "execute_result"
    }
   ],
   "source": [
    "df = pd.read_sql(\"SELECT * FROM embeddings\", old_db)\n",
    "df = df.drop_duplicates(subset=[\"id\"])\n",
    "df = df.set_index(\"id\")\n",
    "df"
   ]
  },
  {
   "cell_type": "code",
   "execution_count": 6,
   "metadata": {},
   "outputs": [],
   "source": [
    "db_file = \"koso-tasks-emebeddings.sqlite\"\n",
    "db = sqlite3.connect(db_file, autocommit=True)"
   ]
  },
  {
   "cell_type": "code",
   "execution_count": null,
   "metadata": {},
   "outputs": [],
   "source": [
    "df.to_sql(\"embeddings\", db)"
   ]
  },
  {
   "cell_type": "code",
   "execution_count": 7,
   "metadata": {},
   "outputs": [
    {
     "data": {
      "text/html": [
       "<div>\n",
       "<style scoped>\n",
       "    .dataframe tbody tr th:only-of-type {\n",
       "        vertical-align: middle;\n",
       "    }\n",
       "\n",
       "    .dataframe tbody tr th {\n",
       "        vertical-align: top;\n",
       "    }\n",
       "\n",
       "    .dataframe thead th {\n",
       "        text-align: right;\n",
       "    }\n",
       "</style>\n",
       "<table border=\"1\" class=\"dataframe\">\n",
       "  <thead>\n",
       "    <tr style=\"text-align: right;\">\n",
       "      <th></th>\n",
       "      <th>id</th>\n",
       "      <th>total</th>\n",
       "    </tr>\n",
       "  </thead>\n",
       "  <tbody>\n",
       "  </tbody>\n",
       "</table>\n",
       "</div>"
      ],
      "text/plain": [
       "Empty DataFrame\n",
       "Columns: [id, total]\n",
       "Index: []"
      ]
     },
     "execution_count": 7,
     "metadata": {},
     "output_type": "execute_result"
    }
   ],
   "source": [
    "pd.read_sql(\"select id, count(*) as total from embeddings group by id having total > 1\", db)"
   ]
  },
  {
   "cell_type": "code",
   "execution_count": 22,
   "metadata": {},
   "outputs": [
    {
     "data": {
      "text/plain": [
       "[]"
      ]
     },
     "execution_count": 22,
     "metadata": {},
     "output_type": "execute_result"
    }
   ],
   "source": [
    "db.execute(\"select id, count(*) as total from embeddings group by id having total > 1\").fetchall()"
   ]
  },
  {
   "cell_type": "code",
   "execution_count": null,
   "metadata": {},
   "outputs": [],
   "source": []
  }
 ],
 "metadata": {
  "kernelspec": {
   "display_name": ".venv",
   "language": "python",
   "name": "python3"
  },
  "language_info": {
   "codemirror_mode": {
    "name": "ipython",
    "version": 3
   },
   "file_extension": ".py",
   "mimetype": "text/x-python",
   "name": "python",
   "nbconvert_exporter": "python",
   "pygments_lexer": "ipython3",
   "version": "3.13.2"
  }
 },
 "nbformat": 4,
 "nbformat_minor": 2
}
